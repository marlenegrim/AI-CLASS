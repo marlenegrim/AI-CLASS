{
  "nbformat": 4,
  "nbformat_minor": 0,
  "metadata": {
    "colab": {
      "provenance": [],
      "collapsed_sections": []
    },
    "kernelspec": {
      "name": "python3",
      "display_name": "Python 3"
    },
    "language_info": {
      "name": "python"
    }
  },
  "cells": [
    {
      "cell_type": "markdown",
      "source": [
        "***Excercise 1***\n",
        "\n",
        "Create a python script where the user is going to be asked for the name. After that, the program will greet the user with the given name. Only exception: the script will not greet the user if the given name is \"Ana\", \"John\" or \"Peter\"."
      ],
      "metadata": {
        "id": "EmUdezPU7uth"
      }
    },
    {
      "cell_type": "code",
      "execution_count": 122,
      "metadata": {
        "colab": {
          "base_uri": "https://localhost:8080/"
        },
        "id": "ZZotwx3ebyCI",
        "outputId": "55c411fa-d32e-458b-a770-27c82f080afd"
      },
      "outputs": [
        {
          "output_type": "stream",
          "name": "stdout",
          "text": [
            "Write your name: Marlene\n",
            "Hi Marlene\n"
          ]
        }
      ],
      "source": [
        "#Exercise 1\n",
        "\n",
        "#Asking the user's name\n",
        "greet=input(\"Write your name: \")\n",
        "\n",
        "#Exceptions\n",
        "if greet == \"Ana\":\n",
        "  print(\"No greetings for you\")\n",
        "elif greet == \"John\":\n",
        "  print(\"No greetings for you\")\n",
        "elif greet == \"Peter\":\n",
        "  print(\"No greetings for you\")\n",
        "\n",
        "#Greetings\n",
        "else:\n",
        "  print(\"Hi \"+ greet) "
      ]
    },
    {
      "cell_type": "markdown",
      "source": [
        "***Exercise 2***\n",
        "\n",
        "Create a function in a pyhton script that returns (print) the last element of a given list, reverts the order of the list and finally returns (print) the reverted list. "
      ],
      "metadata": {
        "id": "IiVLAScm8zx3"
      }
    },
    {
      "cell_type": "code",
      "source": [
        "#Exercise 2\n",
        "\n",
        "#Making the list\n",
        "colors = [\"red\",\"pink\",\"orange\",\"black\"]\n",
        "\n",
        "#Defining our function\n",
        "def colors_function(colors):\n",
        "  print(colors[-1]) #Asking for the last elememt of the list\n",
        "  colors.reverse() #Reversing the list\n",
        "  print(colors) #Printing the reversed list"
      ],
      "metadata": {
        "id": "6K2ylSG6Ojxl"
      },
      "execution_count": 123,
      "outputs": []
    },
    {
      "cell_type": "code",
      "source": [
        "#Calling the previous function\n",
        "colors_function(colors)"
      ],
      "metadata": {
        "colab": {
          "base_uri": "https://localhost:8080/"
        },
        "id": "u2Uew0z2TWd4",
        "outputId": "d57f1f4f-aa76-4502-d979-80ae20f7e73f"
      },
      "execution_count": 124,
      "outputs": [
        {
          "output_type": "stream",
          "name": "stdout",
          "text": [
            "black\n",
            "['black', 'orange', 'pink', 'red']\n"
          ]
        }
      ]
    },
    {
      "cell_type": "markdown",
      "source": [
        "***Exercise 3***\n",
        "\n",
        "Create a function in a python script that takes a list of strings as input and then it prints, line by line, the whole list in a rectangular shape."
      ],
      "metadata": {
        "id": "rjR5CK2f9O-o"
      }
    },
    {
      "cell_type": "code",
      "source": [
        "#Exercise 3\n",
        "\n",
        "#Defining the function\n",
        "def frame_function(sentence):\n",
        "  size=max([len(x)for x in sentence])\n",
        "  print('*'+'*'*size+'*')\n",
        "  for x in sentence:\n",
        "    print('*'+ x + ' '*(size-len(x))+'*')\n",
        "  print('*'+ '*'*(size)+'*') \n",
        "\n",
        "#Asking the user to write a sentence\n",
        "input_sentence= input('Write a sentence ')\n",
        "\n",
        "#Turning the sentence into a list\n",
        "sentence_as_list = input_sentence.split()"
      ],
      "metadata": {
        "colab": {
          "base_uri": "https://localhost:8080/"
        },
        "id": "vFNGILlBdgaV",
        "outputId": "2bc7e5ba-390e-40e5-b39a-422a4b21c307"
      },
      "execution_count": 125,
      "outputs": [
        {
          "name": "stdout",
          "output_type": "stream",
          "text": [
            "Write a sentence Hello! My name is Marlene Grimaldo Páez\n"
          ]
        }
      ]
    },
    {
      "cell_type": "code",
      "source": [
        "#Calling the previous function using the list created from the asked sentence\n",
        "frame_function(sentence_as_list)"
      ],
      "metadata": {
        "colab": {
          "base_uri": "https://localhost:8080/"
        },
        "id": "EmSYcX7DevtH",
        "outputId": "35436ded-594f-4bd1-9436-c04a60c89e94"
      },
      "execution_count": 126,
      "outputs": [
        {
          "output_type": "stream",
          "name": "stdout",
          "text": [
            "**********\n",
            "*Hello!  *\n",
            "*My      *\n",
            "*name    *\n",
            "*is      *\n",
            "*Marlene *\n",
            "*Grimaldo*\n",
            "*Páez    *\n",
            "**********\n"
          ]
        }
      ]
    }
  ]
}